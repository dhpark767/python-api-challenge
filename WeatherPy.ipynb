{
 "cells": [
  {
   "cell_type": "markdown",
   "metadata": {},
   "source": [
    "# WeatherPy\n",
    "----\n",
    "\n",
    "#### Note\n",
    "* Instructions have been included for each segment. You do not have to follow them exactly, but they are included to help you think through the steps."
   ]
  },
  {
   "cell_type": "code",
   "execution_count": 1,
   "metadata": {
    "scrolled": true
   },
   "outputs": [],
   "source": [
    "# Dependencies and Setup\n",
    "import matplotlib.pyplot as plt\n",
    "import pandas as pd\n",
    "import numpy as np\n",
    "import requests\n",
    "import time\n",
    "from scipy.stats import linregress\n",
    "import csv\n",
    "from scipy import stats\n",
    "\n",
    "# Import API key\n",
    "from api_keys import weather_api_key\n",
    "\n",
    "# Incorporated citipy to determine city based on latitude and longitude\n",
    "from citipy import citipy\n",
    "\n",
    "# Output File (CSV)\n",
    "output_data_file = \"output_data/cities_final.csv\"\n",
    "\n",
    "# Range of latitudes and longitudes\n",
    "lat_range = (-90, 90)\n",
    "lng_range = (-180, 180)"
   ]
  },
  {
   "cell_type": "markdown",
   "metadata": {},
   "source": [
    "## Generate Cities List"
   ]
  },
  {
   "cell_type": "code",
   "execution_count": 2,
   "metadata": {},
   "outputs": [
    {
     "data": {
      "text/plain": [
       "532"
      ]
     },
     "execution_count": 2,
     "metadata": {},
     "output_type": "execute_result"
    }
   ],
   "source": [
    "# List for holding lat_lngs and cities\n",
    "lat_lngs = []\n",
    "cities = []\n",
    "\n",
    "# Create a set of random lat and lng combinations\n",
    "lats = np.random.uniform(low=-90.000, high=90.000, size=1200)  #1500 total\n",
    "lngs = np.random.uniform(low=-180.000, high=180.000, size=1200)\n",
    "lat_lngs = zip(lats, lngs)\n",
    "\n",
    "# Identify nearest city for each lat, lng combination\n",
    "for lat_lng in lat_lngs:\n",
    "    city = citipy.nearest_city(lat_lng[0], lat_lng[1]).city_name\n",
    "    \n",
    "    # If the city is unique, then add it to a our cities list\n",
    "    if city not in cities:\n",
    "        cities.append(city)\n",
    "\n",
    "# Print the city count to confirm sufficient count\n",
    "len(cities)"
   ]
  },
  {
   "cell_type": "markdown",
   "metadata": {},
   "source": [
    "### Perform API Calls\n",
    "* Perform a weather check on each city using a series of successive API calls.\n",
    "* Include a print log of each city as it'sbeing processed (with the city number and city name).\n"
   ]
  },
  {
   "cell_type": "code",
   "execution_count": 3,
   "metadata": {
    "scrolled": true
   },
   "outputs": [],
   "source": [
    "lat = []\n",
    "lng = []\n",
    "temp = []\n",
    "cloudiness = []\n",
    "country = []\n",
    "date = []\n",
    "Humidity = []\n",
    "temp_max = []\n",
    "wind_speed = []\n",
    "city_name = []"
   ]
  },
  {
   "cell_type": "code",
   "execution_count": 4,
   "metadata": {},
   "outputs": [
    {
     "name": "stdout",
     "output_type": "stream",
     "text": [
      "-----------------------------\n",
      "Beginning Data Retrieval\n",
      "-----------------------------\n",
      "Processing record 1 of set 0 | punta arenas\n",
      "Processing record 2 of set 0 | humberto de campos\n",
      "Processing record 3 of set 0 | saint-philippe\n",
      "Processing record 4 of set 0 | mataura\n",
      "Processing record 5 of set 0 | paita\n",
      "Processing record 6 of set 0 | tasiilaq\n",
      "Processing record 7 of set 0 | vaini\n",
      "Processing record 8 of set 0 | butaritari\n",
      "Processing record 9 of set 0 | caravelas\n",
      "Processing record 10 of set 0 | ushuaia\n",
      "Processing record 11 of set 0 | bluff\n",
      "Processing record 12 of set 0 | mujiayingzi\n",
      "Processing record 13 of set 0 | saraza\n",
      "Processing record 14 of set 0 | san miguel de cauri\n",
      "Processing record 15 of set 0 | srednekolymsk\n",
      "Processing record 16 of set 0 | cape town\n",
      "Processing record 17 of set 0 | hilo\n",
      "Processing record 18 of set 0 | hermanus\n",
      "Processing record 19 of set 0 | carutapera\n",
      "Processing record 20 of set 0 | faribault\n",
      "Processing record 21 of set 0 | new norfolk\n",
      "Processing record 22 of set 0 | taolanaro\n",
      "City not found. Skipping...\n",
      "Processing record 23 of set 0 | dudinka\n",
      "Processing record 24 of set 0 | west bay\n",
      "Processing record 25 of set 0 | ilhabela\n",
      "Processing record 26 of set 0 | port blair\n",
      "Processing record 27 of set 0 | dromolaxia\n",
      "Processing record 28 of set 0 | kerteh\n",
      "City not found. Skipping...\n",
      "Processing record 29 of set 0 | jamestown\n",
      "Processing record 30 of set 0 | rikitea\n",
      "Processing record 31 of set 0 | bolungarvik\n",
      "City not found. Skipping...\n",
      "Processing record 32 of set 0 | sao joao da barra\n",
      "Processing record 33 of set 0 | lagoa\n",
      "Processing record 34 of set 0 | samusu\n",
      "City not found. Skipping...\n",
      "Processing record 35 of set 0 | vetlanda\n",
      "Processing record 36 of set 0 | anqiu\n",
      "Processing record 37 of set 0 | grand-santi\n",
      "Processing record 38 of set 0 | nanortalik\n",
      "Processing record 39 of set 0 | avarua\n",
      "Processing record 40 of set 0 | khasan\n",
      "Processing record 41 of set 0 | tecoanapa\n",
      "Processing record 42 of set 0 | gayny\n",
      "Processing record 43 of set 0 | ermita\n",
      "Processing record 44 of set 0 | winnemucca\n",
      "Processing record 45 of set 0 | potam\n",
      "Processing record 46 of set 0 | barrow\n",
      "Processing record 47 of set 0 | nizhneyansk\n",
      "City not found. Skipping...\n",
      "Processing record 48 of set 0 | lebu\n",
      "Processing record 49 of set 0 | esperance\n",
      "Processing record 50 of set 0 | chuy\n",
      "Processing record 0 of set 1 | bilma\n",
      "Processing record 1 of set 1 | illoqqortoormiut\n",
      "City not found. Skipping...\n",
      "Processing record 2 of set 1 | anadyr\n",
      "Processing record 3 of set 1 | hobart\n",
      "Processing record 4 of set 1 | hithadhoo\n",
      "Processing record 5 of set 1 | lata\n",
      "Processing record 6 of set 1 | canar\n",
      "Processing record 7 of set 1 | busselton\n",
      "Processing record 8 of set 1 | mednogorsk\n",
      "Processing record 9 of set 1 | fort nelson\n",
      "Processing record 10 of set 1 | mahebourg\n",
      "Processing record 11 of set 1 | hay river\n",
      "Processing record 12 of set 1 | albany\n",
      "Processing record 13 of set 1 | baglan\n",
      "Processing record 14 of set 1 | mar del plata\n",
      "Processing record 15 of set 1 | pacific grove\n",
      "Processing record 16 of set 1 | bilyayivka\n",
      "Processing record 17 of set 1 | clyde river\n",
      "Processing record 18 of set 1 | lanxi\n",
      "Processing record 19 of set 1 | severo-kurilsk\n",
      "Processing record 20 of set 1 | barguzin\n",
      "Processing record 21 of set 1 | puerto ayora\n",
      "Processing record 22 of set 1 | klaksvik\n",
      "Processing record 23 of set 1 | sharjah\n",
      "Processing record 24 of set 1 | bowen\n",
      "Processing record 25 of set 1 | puri\n",
      "Processing record 26 of set 1 | atuona\n",
      "Processing record 27 of set 1 | karamay\n",
      "City not found. Skipping...\n",
      "Processing record 28 of set 1 | broken hill\n",
      "Processing record 29 of set 1 | daru\n",
      "Processing record 30 of set 1 | axim\n",
      "Processing record 31 of set 1 | bonavista\n",
      "Processing record 32 of set 1 | dargaville\n",
      "Processing record 33 of set 1 | brielle\n",
      "Processing record 34 of set 1 | carnarvon\n",
      "Processing record 35 of set 1 | ancud\n",
      "Processing record 36 of set 1 | padang\n",
      "Processing record 37 of set 1 | samalaeulu\n",
      "City not found. Skipping...\n",
      "Processing record 38 of set 1 | kurchum\n",
      "Processing record 39 of set 1 | quang ngai\n",
      "Processing record 40 of set 1 | dolbeau\n",
      "City not found. Skipping...\n",
      "Processing record 41 of set 1 | ngudu\n",
      "Processing record 42 of set 1 | kapaa\n",
      "Processing record 43 of set 1 | koster\n",
      "Processing record 44 of set 1 | geraldton\n",
      "Processing record 45 of set 1 | hargeysa\n",
      "Processing record 46 of set 1 | tambacounda\n",
      "Processing record 47 of set 1 | paamiut\n",
      "Processing record 48 of set 1 | aklavik\n",
      "Processing record 49 of set 1 | lavrentiya\n",
      "Processing record 50 of set 1 | chokurdakh\n",
      "Processing record 0 of set 2 | ferrol\n",
      "Processing record 1 of set 2 | souillac\n",
      "Processing record 2 of set 2 | nishihara\n",
      "Processing record 3 of set 2 | vikhorevka\n",
      "Processing record 4 of set 2 | qaanaaq\n",
      "Processing record 5 of set 2 | jati\n",
      "Processing record 6 of set 2 | codrington\n",
      "Processing record 7 of set 2 | sungaipenuh\n",
      "Processing record 8 of set 2 | ongandjera\n",
      "Processing record 9 of set 2 | umzimvubu\n",
      "City not found. Skipping...\n",
      "Processing record 10 of set 2 | yellowknife\n",
      "Processing record 11 of set 2 | ponta do sol\n",
      "Processing record 12 of set 2 | viedma\n",
      "Processing record 13 of set 2 | alamos\n",
      "Processing record 14 of set 2 | ostrovnoy\n",
      "Processing record 15 of set 2 | kodiak\n",
      "Processing record 16 of set 2 | emerald\n",
      "Processing record 17 of set 2 | harper\n",
      "Processing record 18 of set 2 | ixtapa\n",
      "Processing record 19 of set 2 | carmen\n",
      "Processing record 20 of set 2 | brae\n",
      "Processing record 21 of set 2 | biltine\n",
      "Processing record 22 of set 2 | santo tomas\n",
      "Processing record 23 of set 2 | ulaanbaatar\n",
      "Processing record 24 of set 2 | nata\n",
      "Processing record 25 of set 2 | longyearbyen\n",
      "Processing record 26 of set 2 | kulhudhuffushi\n",
      "Processing record 27 of set 2 | sitka\n",
      "Processing record 28 of set 2 | vila\n",
      "Processing record 29 of set 2 | san policarpo\n",
      "Processing record 30 of set 2 | karaul\n",
      "City not found. Skipping...\n",
      "Processing record 31 of set 2 | bredasdorp\n",
      "Processing record 32 of set 2 | isangel\n",
      "Processing record 33 of set 2 | curup\n",
      "Processing record 34 of set 2 | tumannyy\n",
      "City not found. Skipping...\n",
      "Processing record 35 of set 2 | piedra gorda\n",
      "Processing record 36 of set 2 | egvekinot\n",
      "Processing record 37 of set 2 | hokitika\n",
      "Processing record 38 of set 2 | tsihombe\n",
      "City not found. Skipping...\n",
      "Processing record 39 of set 2 | port macquarie\n",
      "Processing record 40 of set 2 | amderma\n",
      "City not found. Skipping...\n",
      "Processing record 41 of set 2 | georgetown\n",
      "Processing record 42 of set 2 | masakin\n",
      "Processing record 43 of set 2 | airai\n",
      "Processing record 44 of set 2 | flinders\n",
      "Processing record 45 of set 2 | alice\n",
      "Processing record 46 of set 2 | port alfred\n",
      "Processing record 47 of set 2 | saskylakh\n",
      "Processing record 48 of set 2 | port elizabeth\n",
      "Processing record 49 of set 2 | nikolskoye\n",
      "Processing record 50 of set 2 | ewa beach\n",
      "Processing record 0 of set 3 | leningradskiy\n",
      "Processing record 1 of set 3 | provideniya\n",
      "Processing record 2 of set 3 | akdepe\n",
      "Processing record 3 of set 3 | ribeira grande\n",
      "Processing record 4 of set 3 | iquique\n",
      "Processing record 5 of set 3 | kudahuvadhoo\n",
      "Processing record 6 of set 3 | iqaluit\n",
      "Processing record 7 of set 3 | cabedelo\n",
      "Processing record 8 of set 3 | kruisfontein\n",
      "Processing record 9 of set 3 | ozernovskiy\n",
      "Processing record 10 of set 3 | grand river south east\n",
      "City not found. Skipping...\n",
      "Processing record 11 of set 3 | dikson\n",
      "Processing record 12 of set 3 | constantine\n",
      "Processing record 13 of set 3 | saleaula\n",
      "City not found. Skipping...\n",
      "Processing record 14 of set 3 | shingu\n",
      "Processing record 15 of set 3 | sentyabrskiy\n",
      "City not found. Skipping...\n",
      "Processing record 16 of set 3 | chenghai\n",
      "Processing record 17 of set 3 | arraial do cabo\n",
      "Processing record 18 of set 3 | goure\n",
      "Processing record 19 of set 3 | szecseny\n",
      "Processing record 20 of set 3 | gat\n",
      "Processing record 21 of set 3 | fortuna\n",
      "Processing record 22 of set 3 | adrar\n",
      "Processing record 23 of set 3 | chara\n",
      "Processing record 24 of set 3 | talnakh\n",
      "Processing record 25 of set 3 | manaure\n",
      "Processing record 26 of set 3 | saldanha\n",
      "Processing record 27 of set 3 | castro\n",
      "Processing record 28 of set 3 | pundaguitan\n",
      "Processing record 29 of set 3 | laguna\n",
      "Processing record 30 of set 3 | moron\n",
      "Processing record 31 of set 3 | tiksi\n",
      "Processing record 32 of set 3 | svolvaer\n",
      "Processing record 33 of set 3 | halalo\n",
      "City not found. Skipping...\n"
     ]
    },
    {
     "name": "stdout",
     "output_type": "stream",
     "text": [
      "Processing record 34 of set 3 | torbay\n",
      "Processing record 35 of set 3 | saint-georges\n",
      "Processing record 36 of set 3 | yulara\n",
      "Processing record 37 of set 3 | luderitz\n",
      "Processing record 38 of set 3 | coquimbo\n",
      "Processing record 39 of set 3 | rio gallegos\n",
      "Processing record 40 of set 3 | saint-louis\n",
      "Processing record 41 of set 3 | kandrian\n",
      "Processing record 42 of set 3 | christchurch\n",
      "Processing record 43 of set 3 | hambantota\n",
      "Processing record 44 of set 3 | praia da vitoria\n",
      "Processing record 45 of set 3 | palabuhanratu\n",
      "City not found. Skipping...\n",
      "Processing record 46 of set 3 | belushya guba\n",
      "City not found. Skipping...\n",
      "Processing record 47 of set 3 | atar\n",
      "Processing record 48 of set 3 | cabo san lucas\n",
      "Processing record 49 of set 3 | bethel\n",
      "Processing record 50 of set 3 | payo\n",
      "Processing record 0 of set 4 | bara\n",
      "Processing record 1 of set 4 | bogorodskoye\n",
      "Processing record 2 of set 4 | danielskuil\n",
      "Processing record 3 of set 4 | kavaratti\n",
      "Processing record 4 of set 4 | northam\n",
      "Processing record 5 of set 4 | japura\n",
      "Processing record 6 of set 4 | dongsheng\n",
      "Processing record 7 of set 4 | sebinkarahisar\n",
      "Processing record 8 of set 4 | cap malheureux\n",
      "Processing record 9 of set 4 | yarim\n",
      "Processing record 10 of set 4 | pederneiras\n",
      "Processing record 11 of set 4 | cherskiy\n",
      "Processing record 12 of set 4 | ierapetra\n",
      "Processing record 13 of set 4 | kavieng\n",
      "Processing record 14 of set 4 | spartanburg\n",
      "Processing record 15 of set 4 | bandarbeyla\n",
      "Processing record 16 of set 4 | rundu\n",
      "Processing record 17 of set 4 | kamenskoye\n",
      "City not found. Skipping...\n",
      "Processing record 18 of set 4 | sao paulo de olivenca\n",
      "Processing record 19 of set 4 | porto novo\n",
      "Processing record 20 of set 4 | kenai\n",
      "Processing record 21 of set 4 | barentsburg\n",
      "City not found. Skipping...\n",
      "Processing record 22 of set 4 | cayenne\n",
      "Processing record 23 of set 4 | porbandar\n",
      "Processing record 24 of set 4 | solnechnyy\n",
      "Processing record 25 of set 4 | maldonado\n",
      "Processing record 26 of set 4 | mys shmidta\n",
      "City not found. Skipping...\n",
      "Processing record 27 of set 4 | kuching\n",
      "Processing record 28 of set 4 | guerrero negro\n",
      "Processing record 29 of set 4 | viramgam\n",
      "Processing record 30 of set 4 | upernavik\n",
      "Processing record 31 of set 4 | skibbereen\n",
      "Processing record 32 of set 4 | comodoro rivadavia\n",
      "Processing record 33 of set 4 | grand centre\n",
      "City not found. Skipping...\n",
      "Processing record 34 of set 4 | lima\n",
      "Processing record 35 of set 4 | alice springs\n",
      "Processing record 36 of set 4 | bud\n",
      "Processing record 37 of set 4 | umm kaddadah\n",
      "Processing record 38 of set 4 | maniitsoq\n",
      "Processing record 39 of set 4 | nhulunbuy\n",
      "Processing record 40 of set 4 | grindavik\n",
      "Processing record 41 of set 4 | konongo\n",
      "Processing record 42 of set 4 | saint george\n",
      "Processing record 43 of set 4 | thompson\n",
      "Processing record 44 of set 4 | wattegama\n",
      "Processing record 45 of set 4 | ust-tsilma\n",
      "Processing record 46 of set 4 | ketchikan\n",
      "Processing record 47 of set 4 | komoro\n",
      "Processing record 48 of set 4 | waingapu\n",
      "Processing record 49 of set 4 | salalah\n",
      "Processing record 50 of set 4 | dickinson\n",
      "Processing record 0 of set 5 | kurmanayevka\n",
      "Processing record 1 of set 5 | presidente medici\n",
      "Processing record 2 of set 5 | kirakira\n",
      "Processing record 3 of set 5 | katsuura\n",
      "Processing record 4 of set 5 | fethiye\n",
      "Processing record 5 of set 5 | urdoma\n",
      "Processing record 6 of set 5 | sambava\n",
      "Processing record 7 of set 5 | yenagoa\n",
      "Processing record 8 of set 5 | darfo\n",
      "Processing record 9 of set 5 | vila velha\n",
      "Processing record 10 of set 5 | tuktoyaktuk\n",
      "Processing record 11 of set 5 | freeport\n",
      "Processing record 12 of set 5 | margate\n",
      "Processing record 13 of set 5 | havre-saint-pierre\n",
      "Processing record 14 of set 5 | anchorage\n",
      "Processing record 15 of set 5 | ankang\n",
      "Processing record 16 of set 5 | mackay\n",
      "Processing record 17 of set 5 | sol-iletsk\n",
      "Processing record 18 of set 5 | bengkulu\n",
      "Processing record 19 of set 5 | port hardy\n",
      "Processing record 20 of set 5 | encruzilhada do sul\n",
      "Processing record 21 of set 5 | muvattupula\n",
      "Processing record 22 of set 5 | maceio\n",
      "Processing record 23 of set 5 | jerome\n",
      "Processing record 24 of set 5 | rovaniemi\n",
      "Processing record 25 of set 5 | poshekhonye\n",
      "Processing record 26 of set 5 | coihaique\n",
      "Processing record 27 of set 5 | sobolevo\n",
      "Processing record 28 of set 5 | banda aceh\n",
      "Processing record 29 of set 5 | parana\n",
      "Processing record 30 of set 5 | anaconda\n",
      "Processing record 31 of set 5 | khatanga\n",
      "Processing record 32 of set 5 | benjamin constant\n",
      "Processing record 33 of set 5 | dhidhdhoo\n",
      "Processing record 34 of set 5 | cottonwood\n",
      "Processing record 35 of set 5 | bambous virieux\n",
      "Processing record 36 of set 5 | anito\n",
      "Processing record 37 of set 5 | oranjemund\n",
      "Processing record 38 of set 5 | touros\n",
      "Processing record 39 of set 5 | sur\n",
      "Processing record 40 of set 5 | itarema\n",
      "Processing record 41 of set 5 | lompoc\n",
      "Processing record 42 of set 5 | olinda\n",
      "Processing record 43 of set 5 | martinez\n",
      "Processing record 44 of set 5 | chateau-gontier\n",
      "Processing record 45 of set 5 | zaranj\n",
      "Processing record 46 of set 5 | korla\n",
      "Processing record 47 of set 5 | kabare\n",
      "Processing record 48 of set 5 | vao\n",
      "Processing record 49 of set 5 | alenquer\n",
      "Processing record 50 of set 5 | batsfjord\n",
      "Processing record 0 of set 6 | milcoiu\n",
      "Processing record 1 of set 6 | nkoteng\n",
      "Processing record 2 of set 6 | norman wells\n",
      "Processing record 3 of set 6 | port-gentil\n",
      "Processing record 4 of set 6 | sakakah\n",
      "Processing record 5 of set 6 | phan rang\n",
      "City not found. Skipping...\n",
      "Processing record 6 of set 6 | tiznit\n",
      "Processing record 7 of set 6 | webb city\n",
      "Processing record 8 of set 6 | vestmannaeyjar\n",
      "Processing record 9 of set 6 | sangmelima\n",
      "Processing record 10 of set 6 | adelaide\n",
      "Processing record 11 of set 6 | sao filipe\n",
      "Processing record 12 of set 6 | tezu\n",
      "Processing record 13 of set 6 | nurota\n",
      "Processing record 14 of set 6 | asfi\n",
      "Processing record 15 of set 6 | kui buri\n",
      "Processing record 16 of set 6 | beloha\n",
      "Processing record 17 of set 6 | kloulklubed\n",
      "Processing record 18 of set 6 | kitimat\n",
      "Processing record 19 of set 6 | oktyabrskoye\n",
      "Processing record 20 of set 6 | vanavara\n",
      "Processing record 21 of set 6 | garowe\n",
      "Processing record 22 of set 6 | san patricio\n",
      "Processing record 23 of set 6 | alvorada\n",
      "Processing record 24 of set 6 | illescas\n",
      "Processing record 25 of set 6 | canto do buriti\n",
      "Processing record 26 of set 6 | american canyon\n",
      "Processing record 27 of set 6 | belaya gora\n",
      "Processing record 28 of set 6 | saint-pierre\n",
      "Processing record 29 of set 6 | cidreira\n",
      "Processing record 30 of set 6 | bardiyah\n",
      "Processing record 31 of set 6 | soto la marina\n",
      "Processing record 32 of set 6 | patrocinio\n",
      "Processing record 33 of set 6 | sri aman\n",
      "Processing record 34 of set 6 | poum\n",
      "Processing record 35 of set 6 | athabasca\n",
      "Processing record 36 of set 6 | benguela\n",
      "Processing record 37 of set 6 | edd\n",
      "Processing record 38 of set 6 | fare\n",
      "Processing record 39 of set 6 | muroto\n",
      "Processing record 40 of set 6 | mahibadhoo\n",
      "Processing record 41 of set 6 | quatre cocos\n",
      "Processing record 42 of set 6 | metabetchouan\n",
      "City not found. Skipping...\n",
      "Processing record 43 of set 6 | kaitangata\n",
      "Processing record 44 of set 6 | vardo\n",
      "Processing record 45 of set 6 | show low\n",
      "Processing record 46 of set 6 | labuhan\n",
      "Processing record 47 of set 6 | la ronge\n",
      "Processing record 48 of set 6 | kitui\n",
      "Processing record 49 of set 6 | gladstone\n",
      "Processing record 50 of set 6 | tuatapere\n",
      "Processing record 0 of set 7 | tiarei\n",
      "Processing record 1 of set 7 | rio grande\n",
      "Processing record 2 of set 7 | rocha\n",
      "Processing record 3 of set 7 | porto ferreira\n",
      "Processing record 4 of set 7 | hasaki\n",
      "Processing record 5 of set 7 | yerbogachen\n",
      "Processing record 6 of set 7 | kiama\n",
      "Processing record 7 of set 7 | baiyin\n",
      "Processing record 8 of set 7 | lolua\n",
      "City not found. Skipping...\n",
      "Processing record 9 of set 7 | beringovskiy\n",
      "Processing record 10 of set 7 | sampang\n",
      "Processing record 11 of set 7 | asyut\n",
      "Processing record 12 of set 7 | osoyoos\n",
      "Processing record 13 of set 7 | falealupo\n",
      "City not found. Skipping...\n",
      "Processing record 14 of set 7 | krasnoselkup\n",
      "Processing record 15 of set 7 | nouadhibou\n",
      "Processing record 16 of set 7 | jiayuguan\n",
      "Processing record 17 of set 7 | pevek\n",
      "Processing record 18 of set 7 | zhangjiakou\n",
      "Processing record 19 of set 7 | kontagora\n",
      "Processing record 20 of set 7 | jomalig\n",
      "City not found. Skipping...\n"
     ]
    },
    {
     "name": "stdout",
     "output_type": "stream",
     "text": [
      "Processing record 21 of set 7 | jibuti\n",
      "Processing record 22 of set 7 | yarada\n",
      "Processing record 23 of set 7 | pampas\n",
      "Processing record 24 of set 7 | pangnirtung\n",
      "Processing record 25 of set 7 | fairbanks\n",
      "Processing record 26 of set 7 | aleksandrov gay\n",
      "Processing record 27 of set 7 | hervey bay\n",
      "Processing record 28 of set 7 | tomatlan\n",
      "Processing record 29 of set 7 | rockport\n",
      "Processing record 30 of set 7 | inirida\n",
      "Processing record 31 of set 7 | vostok\n",
      "Processing record 32 of set 7 | ocos\n",
      "Processing record 33 of set 7 | yeehaw junction\n",
      "City not found. Skipping...\n",
      "Processing record 34 of set 7 | college\n",
      "Processing record 35 of set 7 | sabha\n",
      "Processing record 36 of set 7 | quelimane\n",
      "Processing record 37 of set 7 | bathsheba\n",
      "Processing record 38 of set 7 | bay roberts\n",
      "Processing record 39 of set 7 | karratha\n",
      "Processing record 40 of set 7 | catamarca\n",
      "Processing record 41 of set 7 | muravlenko\n",
      "Processing record 42 of set 7 | bintulu\n",
      "Processing record 43 of set 7 | cockburn town\n",
      "Processing record 44 of set 7 | ahipara\n",
      "Processing record 45 of set 7 | altay\n",
      "Processing record 46 of set 7 | gorontalo\n",
      "Processing record 47 of set 7 | henties bay\n",
      "Processing record 48 of set 7 | tambo\n",
      "Processing record 49 of set 7 | tautira\n",
      "Processing record 50 of set 7 | attawapiskat\n",
      "City not found. Skipping...\n",
      "Processing record 0 of set 8 | tondano\n",
      "Processing record 1 of set 8 | bozovici\n",
      "Processing record 2 of set 8 | buloh kasap\n",
      "Processing record 3 of set 8 | taoudenni\n",
      "Processing record 4 of set 8 | faanui\n",
      "Processing record 5 of set 8 | miri\n",
      "Processing record 6 of set 8 | victoria\n",
      "Processing record 7 of set 8 | takhatgarh\n",
      "Processing record 8 of set 8 | naze\n",
      "Processing record 9 of set 8 | tsilna\n",
      "Processing record 10 of set 8 | havelock\n",
      "Processing record 11 of set 8 | sergeyevka\n",
      "Processing record 12 of set 8 | miramar\n",
      "Processing record 13 of set 8 | haines junction\n",
      "Processing record 14 of set 8 | karamea\n",
      "City not found. Skipping...\n",
      "Processing record 15 of set 8 | rivadavia\n",
      "Processing record 16 of set 8 | marau\n",
      "Processing record 17 of set 8 | kamenka\n",
      "Processing record 18 of set 8 | mopipi\n",
      "Processing record 19 of set 8 | indramayu\n",
      "Processing record 20 of set 8 | te anau\n",
      "Processing record 21 of set 8 | sterling\n",
      "Processing record 22 of set 8 | paragominas\n",
      "Processing record 23 of set 8 | inhambane\n",
      "Processing record 24 of set 8 | aksarka\n",
      "Processing record 25 of set 8 | mazagao\n",
      "Processing record 26 of set 8 | parabel\n",
      "Processing record 27 of set 8 | glace bay\n",
      "Processing record 28 of set 8 | saint marys\n",
      "Processing record 29 of set 8 | jaynagar\n",
      "Processing record 30 of set 8 | kovur\n",
      "Processing record 31 of set 8 | pisco\n",
      "Processing record 32 of set 8 | nova vcelnice\n",
      "Processing record 33 of set 8 | monrovia\n",
      "Processing record 34 of set 8 | kendari\n",
      "Processing record 35 of set 8 | kunming\n",
      "Processing record 36 of set 8 | hofn\n",
      "Processing record 37 of set 8 | sakaraha\n",
      "Processing record 38 of set 8 | lagos\n",
      "Processing record 39 of set 8 | chivay\n",
      "Processing record 40 of set 8 | tanout\n",
      "Processing record 41 of set 8 | aldama\n",
      "Processing record 42 of set 8 | satana\n",
      "Processing record 43 of set 8 | molokovo\n",
      "Processing record 44 of set 8 | bijie\n",
      "Processing record 45 of set 8 | rungata\n",
      "City not found. Skipping...\n",
      "Processing record 46 of set 8 | vestmanna\n",
      "Processing record 47 of set 8 | rawson\n",
      "Processing record 48 of set 8 | caborca\n",
      "Processing record 49 of set 8 | springdale\n",
      "Processing record 50 of set 8 | kenora\n",
      "Processing record 0 of set 9 | hattiesburg\n",
      "Processing record 1 of set 9 | wilmington\n",
      "Processing record 2 of set 9 | tucurui\n",
      "Processing record 3 of set 9 | ushtobe\n",
      "Processing record 4 of set 9 | stornoway\n",
      "Processing record 5 of set 9 | camopi\n",
      "Processing record 6 of set 9 | lahij\n",
      "Processing record 7 of set 9 | miyako\n",
      "Processing record 8 of set 9 | lethem\n",
      "Processing record 9 of set 9 | okmulgee\n",
      "Processing record 10 of set 9 | kaman\n",
      "Processing record 11 of set 9 | mitsamiouli\n",
      "Processing record 12 of set 9 | dunedin\n",
      "Processing record 13 of set 9 | puerto del rosario\n",
      "Processing record 14 of set 9 | namatanai\n",
      "Processing record 15 of set 9 | chapais\n",
      "Processing record 16 of set 9 | ostersund\n",
      "Processing record 17 of set 9 | sikeston\n",
      "Processing record 18 of set 9 | varzea da palma\n",
      "Processing record 19 of set 9 | camabatela\n",
      "Processing record 20 of set 9 | bengkalis\n",
      "City not found. Skipping...\n",
      "Processing record 21 of set 9 | abu samrah\n",
      "Processing record 22 of set 9 | venice\n",
      "Processing record 23 of set 9 | wangqing\n",
      "Processing record 24 of set 9 | lagunas\n",
      "Processing record 25 of set 9 | nara\n",
      "Processing record 26 of set 9 | antalaha\n",
      "Processing record 27 of set 9 | kavkazskiy\n",
      "Processing record 28 of set 9 | zyryanka\n",
      "Processing record 29 of set 9 | glendive\n",
      "Processing record 30 of set 9 | tongliao\n",
      "Processing record 31 of set 9 | chimore\n",
      "Processing record 32 of set 9 | hailin\n",
      "Processing record 33 of set 9 | lakatoro\n",
      "Processing record 34 of set 9 | iberia\n",
      "Processing record 35 of set 9 | narasannapeta\n",
      "Processing record 36 of set 9 | majene\n",
      "Processing record 37 of set 9 | homer\n",
      "Processing record 38 of set 9 | warman\n",
      "Processing record 39 of set 9 | kargopol\n",
      "Processing record 40 of set 9 | svetlogorsk\n",
      "Processing record 41 of set 9 | ambon\n",
      "Processing record 42 of set 9 | kahului\n",
      "Processing record 43 of set 9 | sataua\n",
      "City not found. Skipping...\n",
      "Processing record 44 of set 9 | baherden\n",
      "Processing record 45 of set 9 | chimbote\n",
      "Processing record 46 of set 9 | vila franca do campo\n",
      "Processing record 47 of set 9 | lorengau\n",
      "Processing record 48 of set 9 | rincon\n",
      "Processing record 49 of set 9 | batagay-alyta\n",
      "Processing record 50 of set 9 | wenling\n",
      "Processing record 0 of set 10 | tahe\n",
      "Processing record 1 of set 10 | gautier\n",
      "Processing record 2 of set 10 | tefe\n",
      "Processing record 3 of set 10 | acari\n",
      "Processing record 4 of set 10 | mehamn\n",
      "Processing record 5 of set 10 | kailua\n",
      "Processing record 6 of set 10 | east london\n",
      "Processing record 7 of set 10 | temaraia\n",
      "City not found. Skipping...\n",
      "Processing record 8 of set 10 | broome\n",
      "Processing record 9 of set 10 | soyo\n",
      "Processing record 10 of set 10 | rebrikha\n",
      "Processing record 11 of set 10 | saiha\n",
      "Processing record 12 of set 10 | hami\n",
      "Processing record 13 of set 10 | sabaudia\n",
      "Processing record 14 of set 10 | jasper\n",
      "Processing record 15 of set 10 | moa\n",
      "Processing record 16 of set 10 | smirnykh\n",
      "Processing record 17 of set 10 | tacuarembo\n",
      "Processing record 18 of set 10 | pietarsaari\n",
      "Processing record 19 of set 10 | gigmoto\n",
      "Processing record 20 of set 10 | hopelchen\n",
      "Processing record 21 of set 10 | ust-koksa\n",
      "Processing record 22 of set 10 | gao\n",
      "-------------------------\n",
      "Data Retrieval Complete\n",
      "-------------------------\n"
     ]
    }
   ],
   "source": [
    "# Get latitude and temperature for cities\n",
    "# set up lists to hold reponse info\n",
    "# records = 0-50\n",
    "# sets = 1-15,,\n",
    "record_counter = 0\n",
    "set_counter = 0\n",
    "records = []\n",
    "sets = []\n",
    "\n",
    "url = \"http://api.openweathermap.org/data/2.5/weather?\"\n",
    "units = \"metric\"\n",
    "\n",
    "print(f\"-----------------------------\")\n",
    "print(f\"Beginning Data Retrieval\")\n",
    "print(f\"-----------------------------\")\n",
    "\n",
    "# Loop through the list of cities and perform a request for data on each\n",
    "for city in cities:\n",
    "# Build partial query URL\n",
    "    query_url = f\"{url}appid={weather_api_key}&units={units}&q=\"\n",
    "    response = requests.get(query_url + city).json()\n",
    "    if record_counter < 50:\n",
    "        record_counter += 1\n",
    "    else:\n",
    "        set_counter += 1\n",
    "        record_counter = 0\n",
    "    print('Processing record {} of set {} | {}'.format(record_counter, set_counter, city))\n",
    "\n",
    "    \n",
    "    try:\n",
    "        lat.append(response['coord']['lat'])\n",
    "        lng.append(response['coord']['lon'])\n",
    "        temp.append(response['main']['temp'])\n",
    "        temp_max.append(response['main']['temp_max'])\n",
    "        cloudiness.append(response['clouds']['all'])\n",
    "        country.append(response['sys']['country'])\n",
    "        date.append(response['dt'])\n",
    "        Humidity.append(response['main']['humidity'])\n",
    "        wind_speed.append(response['wind']['speed'])\n",
    "        city_name.append(response['name'])\n",
    "        \n",
    "    except:\n",
    "        print(f\"City not found. Skipping...\")\n",
    "        pass\n",
    "    \n",
    "print('-------------------------')\n",
    "print('Data Retrieval Complete')\n",
    "print('-------------------------')"
   ]
  },
  {
   "cell_type": "code",
   "execution_count": null,
   "metadata": {},
   "outputs": [],
   "source": []
  },
  {
   "cell_type": "markdown",
   "metadata": {},
   "source": [
    "### Convert Raw Data to DataFrame\n",
    "* Export the city data into a .csv.\n",
    "* Display the DataFrame"
   ]
  },
  {
   "cell_type": "code",
   "execution_count": 7,
   "metadata": {},
   "outputs": [
    {
     "data": {
      "text/html": [
       "<div>\n",
       "<style scoped>\n",
       "    .dataframe tbody tr th:only-of-type {\n",
       "        vertical-align: middle;\n",
       "    }\n",
       "\n",
       "    .dataframe tbody tr th {\n",
       "        vertical-align: top;\n",
       "    }\n",
       "\n",
       "    .dataframe thead th {\n",
       "        text-align: right;\n",
       "    }\n",
       "</style>\n",
       "<table border=\"1\" class=\"dataframe\">\n",
       "  <thead>\n",
       "    <tr style=\"text-align: right;\">\n",
       "      <th></th>\n",
       "      <th>city</th>\n",
       "      <th>Cloudiness</th>\n",
       "      <th>Country</th>\n",
       "      <th>Date</th>\n",
       "      <th>Humidity</th>\n",
       "      <th>Lat</th>\n",
       "      <th>Lng</th>\n",
       "      <th>Max Temp</th>\n",
       "      <th>Wind Speed</th>\n",
       "    </tr>\n",
       "  </thead>\n",
       "  <tbody>\n",
       "    <tr>\n",
       "      <th>0</th>\n",
       "      <td>punta arenas</td>\n",
       "      <td>75.0</td>\n",
       "      <td>CL</td>\n",
       "      <td>1.635129e+09</td>\n",
       "      <td>60.0</td>\n",
       "      <td>-53.1500</td>\n",
       "      <td>-70.9167</td>\n",
       "      <td>4.06</td>\n",
       "      <td>10.80</td>\n",
       "    </tr>\n",
       "    <tr>\n",
       "      <th>1</th>\n",
       "      <td>humberto de campos</td>\n",
       "      <td>19.0</td>\n",
       "      <td>BR</td>\n",
       "      <td>1.635129e+09</td>\n",
       "      <td>86.0</td>\n",
       "      <td>-2.5983</td>\n",
       "      <td>-43.4611</td>\n",
       "      <td>25.67</td>\n",
       "      <td>2.76</td>\n",
       "    </tr>\n",
       "    <tr>\n",
       "      <th>2</th>\n",
       "      <td>saint-philippe</td>\n",
       "      <td>48.0</td>\n",
       "      <td>RE</td>\n",
       "      <td>1.635128e+09</td>\n",
       "      <td>81.0</td>\n",
       "      <td>-21.3585</td>\n",
       "      <td>55.7679</td>\n",
       "      <td>22.75</td>\n",
       "      <td>6.33</td>\n",
       "    </tr>\n",
       "    <tr>\n",
       "      <th>3</th>\n",
       "      <td>mataura</td>\n",
       "      <td>90.0</td>\n",
       "      <td>NZ</td>\n",
       "      <td>1.635129e+09</td>\n",
       "      <td>52.0</td>\n",
       "      <td>-46.1927</td>\n",
       "      <td>168.8643</td>\n",
       "      <td>22.09</td>\n",
       "      <td>2.19</td>\n",
       "    </tr>\n",
       "    <tr>\n",
       "      <th>4</th>\n",
       "      <td>paita</td>\n",
       "      <td>58.0</td>\n",
       "      <td>PE</td>\n",
       "      <td>1.635129e+09</td>\n",
       "      <td>82.0</td>\n",
       "      <td>-5.0892</td>\n",
       "      <td>-81.1144</td>\n",
       "      <td>18.76</td>\n",
       "      <td>5.83</td>\n",
       "    </tr>\n",
       "  </tbody>\n",
       "</table>\n",
       "</div>"
      ],
      "text/plain": [
       "                 city  Cloudiness Country          Date  Humidity      Lat  \\\n",
       "0        punta arenas        75.0      CL  1.635129e+09      60.0 -53.1500   \n",
       "1  humberto de campos        19.0      BR  1.635129e+09      86.0  -2.5983   \n",
       "2      saint-philippe        48.0      RE  1.635128e+09      81.0 -21.3585   \n",
       "3             mataura        90.0      NZ  1.635129e+09      52.0 -46.1927   \n",
       "4               paita        58.0      PE  1.635129e+09      82.0  -5.0892   \n",
       "\n",
       "        Lng  Max Temp  Wind Speed  \n",
       "0  -70.9167      4.06       10.80  \n",
       "1  -43.4611     25.67        2.76  \n",
       "2   55.7679     22.75        6.33  \n",
       "3  168.8643     22.09        2.19  \n",
       "4  -81.1144     18.76        5.83  "
      ]
     },
     "execution_count": 7,
     "metadata": {},
     "output_type": "execute_result"
    }
   ],
   "source": [
    "weather_dict = {\n",
    "                \"city\": cities,\n",
    "                \"Cloudiness\": cloudiness,\n",
    "                \"Country\": country,\n",
    "                \"Date\": date,\n",
    "                \"Humidity\": Humidity,\n",
    "                \"Lat\": lat,\n",
    "                \"Lng\": lng,\n",
    "                \"Max Temp\": temp_max,\n",
    "                \"Wind Speed\": wind_speed\n",
    "                }\n",
    "weather_data = pd.DataFrame({k: pd.Series(l) for k, l in weather_dict.items()})\n",
    "weather_data.head()"
   ]
  },
  {
   "cell_type": "code",
   "execution_count": 8,
   "metadata": {},
   "outputs": [
    {
     "data": {
      "text/plain": [
       "city          532\n",
       "Cloudiness    496\n",
       "Country       496\n",
       "Date          496\n",
       "Humidity      496\n",
       "Lat           496\n",
       "Lng           496\n",
       "Max Temp      496\n",
       "Wind Speed    496\n",
       "dtype: int64"
      ]
     },
     "execution_count": 8,
     "metadata": {},
     "output_type": "execute_result"
    }
   ],
   "source": [
    "weather_data.count()"
   ]
  },
  {
   "cell_type": "code",
   "execution_count": 9,
   "metadata": {},
   "outputs": [],
   "source": [
    "# Save dataframe to a new CSV file\n",
    "weather_data.to_csv(\"city_weather.csv\",\n",
    "                  encoding=\"utf-8\", index=False, header=True)"
   ]
  },
  {
   "cell_type": "markdown",
   "metadata": {},
   "source": [
    "## Inspect the data and remove the cities where the humidity > 100%.\n",
    "----\n",
    "Skip this step if there are no cities that have humidity > 100%. "
   ]
  },
  {
   "cell_type": "code",
   "execution_count": null,
   "metadata": {},
   "outputs": [],
   "source": []
  },
  {
   "cell_type": "code",
   "execution_count": null,
   "metadata": {},
   "outputs": [],
   "source": [
    "#  Get the indices of cities that have humidity over 100%.\n"
   ]
  },
  {
   "cell_type": "code",
   "execution_count": null,
   "metadata": {},
   "outputs": [],
   "source": [
    "# Make a new DataFrame equal to the city data to drop all humidity outliers by index.\n",
    "# Passing \"inplace=False\" will make a copy of the city_data DataFrame, which we call \"clean_city_data\".\n"
   ]
  },
  {
   "cell_type": "code",
   "execution_count": null,
   "metadata": {},
   "outputs": [],
   "source": [
    "\n"
   ]
  },
  {
   "cell_type": "markdown",
   "metadata": {},
   "source": [
    "## Plotting the Data\n",
    "* Use proper labeling of the plots using plot titles (including date of analysis) and axes labels.\n",
    "* Save the plotted figures as .pngs."
   ]
  },
  {
   "cell_type": "markdown",
   "metadata": {},
   "source": [
    "## Latitude vs. Temperature Plot"
   ]
  },
  {
   "cell_type": "code",
   "execution_count": 10,
   "metadata": {
    "scrolled": true
   },
   "outputs": [
    {
     "data": {
      "image/png": "[encoded data removed]",
      "text/plain": [
       "<Figure size 432x288 with 1 Axes>"
      ]
     },
     "metadata": {
      "needs_background": "light"
     },
     "output_type": "display_data"
    }
   ],
   "source": [
    "# Build a scatter plot for each data type\n",
    "plt.scatter(weather_data[\"Lat\"], weather_data[\"Max Temp\"], marker=\"o\")\n",
    "\n",
    "# Incorporate the other graph properties\n",
    "plt.title(\"City Latitude vs. Max Temperature(01/03/20)\")\n",
    "plt.ylabel(\"Max Temperature (F)\")\n",
    "plt.xlabel(\"Latitude\")\n",
    "plt.grid(True)\n",
    "\n",
    "# Save the figure\n",
    "plt.savefig(\"CityLatitude_vs_MaxTemperature.png\")\n",
    "\n",
    "# Show plot\n",
    "plt.show()"
   ]
  },
  {
   "cell_type": "markdown",
   "metadata": {},
   "source": [
    "## Latitude vs. Humidity Plot"
   ]
  },
  {
   "cell_type": "code",
   "execution_count": 11,
   "metadata": {},
   "outputs": [
    {
     "data": {
      "image/png": "[encoded data removed]",
      "text/plain": [
       "<Figure size 432x288 with 1 Axes>"
      ]
     },
     "metadata": {
      "needs_background": "light"
     },
     "output_type": "display_data"
    }
   ],
   "source": [
    "# Build a scatter plot for each data type\n",
    "plt.scatter(weather_data[\"Lat\"], weather_data[\"Humidity\"], marker=\"o\")\n",
    "\n",
    "# Incorporate the other graph properties\n",
    "plt.title(\"City Latitude vs. Humidity(01/03/20)\")\n",
    "plt.ylabel(\"Humidity (%)\")\n",
    "plt.xlabel(\"Latitude\")\n",
    "plt.grid(True)\n",
    "\n",
    "# Save the figure\n",
    "plt.savefig(\"CityLatitude_vs_Humidity.png\")\n",
    "\n",
    "# Show plot\n",
    "plt.show()"
   ]
  },
  {
   "cell_type": "markdown",
   "metadata": {},
   "source": [
    "## Latitude vs. Cloudiness Plot"
   ]
  },
  {
   "cell_type": "code",
   "execution_count": 12,
   "metadata": {},
   "outputs": [
    {
     "data": {
      "image/png": "[encoded data removed]",
      "text/plain": [
       "<Figure size 432x288 with 1 Axes>"
      ]
     },
     "metadata": {
      "needs_background": "light"
     },
     "output_type": "display_data"
    }
   ],
   "source": [
    "# Build a scatter plot for each data type\n",
    "plt.scatter(weather_data[\"Lat\"], weather_data[\"Cloudiness\"], marker=\"o\")\n",
    "\n",
    "# Incorporate the other graph properties\n",
    "plt.title(\"City Latitude vs. Cloudiness (01/03/20)\")\n",
    "plt.ylabel(\"Cloudiness (%)\")\n",
    "plt.xlabel(\"Latitude\")\n",
    "plt.grid(True)\n",
    "\n",
    "# Save the figure\n",
    "plt.savefig(\"CityLatitude_vs_Cloudiness.png\")\n",
    "\n",
    "# Show plot\n",
    "plt.show()"
   ]
  },
  {
   "cell_type": "markdown",
   "metadata": {},
   "source": [
    "## Latitude vs. Wind Speed Plot"
   ]
  },
  {
   "cell_type": "code",
   "execution_count": 13,
   "metadata": {},
   "outputs": [
    {
     "data": {
      "image/png": "[encoded data removed]",
      "text/plain": [
       "<Figure size 432x288 with 1 Axes>"
      ]
     },
     "metadata": {
      "needs_background": "light"
     },
     "output_type": "display_data"
    }
   ],
   "source": [
    "# Build a scatter plot for each data type\n",
    "plt.scatter(weather_data[\"Lat\"], weather_data[\"Wind Speed\"], marker=\"o\")\n",
    "\n",
    "# Incorporate the other graph properties\n",
    "plt.title(\"City Latitude vs. Wind Speed (01/03/20)\")\n",
    "plt.ylabel(\"Wind Speed (mph)\")\n",
    "plt.xlabel(\"Latitude\")\n",
    "plt.grid(True)\n",
    "\n",
    "# Save the figure\n",
    "plt.savefig(\"CityLatitude_vs_WindSpeed.png\")\n",
    "\n",
    "# Show plot\n",
    "plt.show()"
   ]
  },
  {
   "cell_type": "markdown",
   "metadata": {},
   "source": [
    "## Linear Regression"
   ]
  },
  {
   "cell_type": "code",
   "execution_count": 14,
   "metadata": {},
   "outputs": [],
   "source": [
    "def LinearRegressionplot(x_values, y_values):\n",
    "\n",
    "# Perform a linear regression on Max Temp vs. latitude\n",
    "    (slope, intercept, rvalue, pvalue, stderr) = stats.linregress(x_values, y_values)\n",
    "# Get regression values\n",
    "    regress_values = x_values * slope + intercept\n",
    "# Create line equation string\n",
    "    line_eq = \"y = \" + str(round(slope,2)) + \"x +\" + str(round(intercept,2))\n",
    "# Create Plot\n",
    "    plt.scatter(x_values,y_values)\n",
    "    plt.plot(x_values,regress_values,\"r-\" )\n",
    "\n",
    "# Label plot and annotate the line equation\n",
    "    plt.xlabel('Latitude')\n",
    "    plt.ylabel(str(y_values.name))\n",
    "    plt.annotate(line_eq,(0,0), fontsize=15,color=\"red\")\n",
    "\n",
    "# Print r square value\n",
    "    print(f\"The r-squared is: {rvalue}\")\n",
    "\n",
    "# Show plot\n",
    "plt.show()"
   ]
  },
  {
   "cell_type": "code",
   "execution_count": 15,
   "metadata": {},
   "outputs": [],
   "source": [
    "# Create Northern and Southern Hemisphere DataFrames\n",
    "Northern_Hemisphere = weather_data.loc[weather_data['Lat'] > 0] \n",
    "Sorthern_Hemisphere = weather_data.loc[weather_data['Lat'] < 0]"
   ]
  },
  {
   "cell_type": "markdown",
   "metadata": {},
   "source": [
    "####  Northern Hemisphere - Max Temp vs. Latitude Linear Regression"
   ]
  },
  {
   "cell_type": "code",
   "execution_count": 16,
   "metadata": {},
   "outputs": [
    {
     "name": "stdout",
     "output_type": "stream",
     "text": [
      "The r-squared is: -0.9026023244901681\n"
     ]
    },
    {
     "data": {
      "image/png": "[encoded data removed]",
      "text/plain": [
       "<Figure size 432x288 with 1 Axes>"
      ]
     },
     "metadata": {
      "needs_background": "light"
     },
     "output_type": "display_data"
    }
   ],
   "source": [
    "x_values = Northern_Hemisphere[\"Lat\"]\n",
    "y_values = Northern_Hemisphere[\"Max Temp\"]\n",
    "LinearRegressionplot(x_values, y_values)"
   ]
  },
  {
   "cell_type": "markdown",
   "metadata": {},
   "source": [
    "####  Southern Hemisphere - Max Temp vs. Latitude Linear Regression"
   ]
  },
  {
   "cell_type": "code",
   "execution_count": 17,
   "metadata": {},
   "outputs": [
    {
     "name": "stdout",
     "output_type": "stream",
     "text": [
      "The r-squared is: 0.5822002870706211\n"
     ]
    },
    {
     "data": {
      "image/png": "[encoded data removed]",
      "text/plain": [
       "<Figure size 432x288 with 1 Axes>"
      ]
     },
     "metadata": {
      "needs_background": "light"
     },
     "output_type": "display_data"
    }
   ],
   "source": [
    "x_values = Sorthern_Hemisphere[\"Lat\"]\n",
    "y_values = Sorthern_Hemisphere[\"Max Temp\"]\n",
    "LinearRegressionplot(x_values, y_values)"
   ]
  },
  {
   "cell_type": "markdown",
   "metadata": {},
   "source": [
    "####  Northern Hemisphere - Humidity (%) vs. Latitude Linear Regression"
   ]
  },
  {
   "cell_type": "code",
   "execution_count": 18,
   "metadata": {},
   "outputs": [
    {
     "name": "stdout",
     "output_type": "stream",
     "text": [
      "The r-squared is: 0.18962027442601162\n"
     ]
    },
    {
     "data": {
      "image/png": "[encoded data removed]",
      "text/plain": [
       "<Figure size 432x288 with 1 Axes>"
      ]
     },
     "metadata": {
      "needs_background": "light"
     },
     "output_type": "display_data"
    }
   ],
   "source": [
    "x_values = Northern_Hemisphere[\"Lat\"]\n",
    "y_values = Northern_Hemisphere[\"Humidity\"]\n",
    "LinearRegressionplot(x_values, y_values)"
   ]
  },
  {
   "cell_type": "markdown",
   "metadata": {},
   "source": [
    "####  Southern Hemisphere - Humidity (%) vs. Latitude Linear Regression"
   ]
  },
  {
   "cell_type": "code",
   "execution_count": 19,
   "metadata": {},
   "outputs": [
    {
     "name": "stdout",
     "output_type": "stream",
     "text": [
      "The r-squared is: 0.31117245536299354\n"
     ]
    },
    {
     "data": {
      "image/png": "[encoded data removed]",
      "text/plain": [
       "<Figure size 432x288 with 1 Axes>"
      ]
     },
     "metadata": {
      "needs_background": "light"
     },
     "output_type": "display_data"
    }
   ],
   "source": [
    "x_values = Sorthern_Hemisphere[\"Lat\"]\n",
    "y_values = Sorthern_Hemisphere[\"Humidity\"]\n",
    "LinearRegressionplot(x_values, y_values)"
   ]
  },
  {
   "cell_type": "markdown",
   "metadata": {},
   "source": [
    "####  Northern Hemisphere - Cloudiness (%) vs. Latitude Linear Regression"
   ]
  },
  {
   "cell_type": "code",
   "execution_count": 20,
   "metadata": {},
   "outputs": [
    {
     "name": "stdout",
     "output_type": "stream",
     "text": [
      "The r-squared is: 0.12677451525517075\n"
     ]
    },
    {
     "data": {
      "image/png": "[encoded data removed]",
      "text/plain": [
       "<Figure size 432x288 with 1 Axes>"
      ]
     },
     "metadata": {
      "needs_background": "light"
     },
     "output_type": "display_data"
    }
   ],
   "source": [
    "x_values = Northern_Hemisphere[\"Lat\"]\n",
    "y_values = Northern_Hemisphere[\"Cloudiness\"]\n",
    "LinearRegressionplot(x_values, y_values)"
   ]
  },
  {
   "cell_type": "markdown",
   "metadata": {},
   "source": [
    "####  Southern Hemisphere - Cloudiness (%) vs. Latitude Linear Regression"
   ]
  },
  {
   "cell_type": "code",
   "execution_count": 21,
   "metadata": {},
   "outputs": [
    {
     "name": "stdout",
     "output_type": "stream",
     "text": [
      "The r-squared is: 0.11042559678314753\n"
     ]
    },
    {
     "data": {
      "image/png": "[encoded data removed]",
      "text/plain": [
       "<Figure size 432x288 with 1 Axes>"
      ]
     },
     "metadata": {
      "needs_background": "light"
     },
     "output_type": "display_data"
    }
   ],
   "source": [
    "x_values = Sorthern_Hemisphere[\"Lat\"]\n",
    "y_values = Sorthern_Hemisphere[\"Cloudiness\"]\n",
    "LinearRegressionplot(x_values, y_values)"
   ]
  },
  {
   "cell_type": "markdown",
   "metadata": {},
   "source": [
    "####  Northern Hemisphere - Wind Speed (mph) vs. Latitude Linear Regression"
   ]
  },
  {
   "cell_type": "code",
   "execution_count": 22,
   "metadata": {},
   "outputs": [
    {
     "name": "stdout",
     "output_type": "stream",
     "text": [
      "The r-squared is: 0.15109286414398132\n"
     ]
    },
    {
     "data": {
      "image/png": "[encoded data removed]",
      "text/plain": [
       "<Figure size 432x288 with 1 Axes>"
      ]
     },
     "metadata": {
      "needs_background": "light"
     },
     "output_type": "display_data"
    }
   ],
   "source": [
    "x_values = Northern_Hemisphere[\"Lat\"]\n",
    "y_values = Northern_Hemisphere[\"Wind Speed\"]\n",
    "LinearRegressionplot(x_values, y_values)"
   ]
  },
  {
   "cell_type": "markdown",
   "metadata": {},
   "source": [
    "####  Southern Hemisphere - Wind Speed (mph) vs. Latitude Linear Regression"
   ]
  },
  {
   "cell_type": "code",
   "execution_count": 23,
   "metadata": {},
   "outputs": [
    {
     "name": "stdout",
     "output_type": "stream",
     "text": [
      "The r-squared is: -0.3395523565302588\n"
     ]
    },
    {
     "data": {
      "image/png": "[encoded data removed]",
      "text/plain": [
       "<Figure size 432x288 with 1 Axes>"
      ]
     },
     "metadata": {
      "needs_background": "light"
     },
     "output_type": "display_data"
    }
   ],
   "source": [
    "x_values = Sorthern_Hemisphere[\"Lat\"]\n",
    "y_values = Sorthern_Hemisphere[\"Wind Speed\"]\n",
    "LinearRegressionplot(x_values, y_values)"
   ]
  },
  {
   "cell_type": "code",
   "execution_count": null,
   "metadata": {},
   "outputs": [],
   "source": []
  }
 ],
 "metadata": {
  "anaconda-cloud": {},
  "kernel_info": {
   "name": "python3"
  },
  "kernelspec": {
   "display_name": "Python 3",
   "language": "python",
   "name": "python3"
  },
  "language_info": {
   "codemirror_mode": {
    "name": "ipython",
    "version": 3
   },
   "file_extension": ".py",
   "mimetype": "text/x-python",
   "name": "python",
   "nbconvert_exporter": "python",
   "pygments_lexer": "ipython3",
   "version": "3.8.8"
  },
  "latex_envs": {
   "LaTeX_envs_menu_present": true,
   "autoclose": false,
   "autocomplete": true,
   "bibliofile": "biblio.bib",
   "cite_by": "apalike",
   "current_citInitial": 1,
   "eqLabelWithNumbers": true,
   "eqNumInitial": 1,
   "hotkeys": {
    "equation": "Ctrl-E",
    "itemize": "Ctrl-I"
   },
   "labels_anchors": false,
   "latex_user_defs": false,
   "report_style_numbering": false,
   "user_envs_cfg": false
  },
  "nteract": {
   "version": "0.12.3"
  }
 },
 "nbformat": 4,
 "nbformat_minor": 2
}
